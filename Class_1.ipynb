{
  "nbformat": 4,
  "nbformat_minor": 0,
  "metadata": {
    "colab": {
      "provenance": [],
      "collapsed_sections": [],
      "include_colab_link": true
    },
    "kernelspec": {
      "name": "python3",
      "display_name": "Python 3"
    },
    "language_info": {
      "name": "python"
    }
  },
  "cells": [
    {
      "cell_type": "markdown",
      "metadata": {
        "id": "view-in-github",
        "colab_type": "text"
      },
      "source": [
        "<a href=\"https://colab.research.google.com/github/Prax0028/UnderstandingMachineLearningAlgorithms_-PESU-IO-14/blob/main/Class_1.ipynb\" target=\"_parent\"><img src=\"https://colab.research.google.com/assets/colab-badge.svg\" alt=\"Open In Colab\"/></a>"
      ]
    },
    {
      "cell_type": "markdown",
      "source": [
        "PRAGNYA VEMPATI     PES2UG21CS380    CLASS-1"
      ],
      "metadata": {
        "id": "T7FqKs5n_PTL"
      }
    },
    {
      "cell_type": "markdown",
      "source": [
        "Welcome to the first class of undersanding ML algorithms\n",
        "Today you will get yourselves familiar with python and essentially get to dive into the basics of some libraries that you will be learning about throughout this course."
      ],
      "metadata": {
        "id": "uxWHk4LP14P2"
      }
    },
    {
      "cell_type": "markdown",
      "source": [
        "The Most basic Hello World program:"
      ],
      "metadata": {
        "id": "4TUobwcn2cvz"
      }
    },
    {
      "cell_type": "code",
      "source": [
        "print(\"Hello World!\")"
      ],
      "metadata": {
        "colab": {
          "base_uri": "https://localhost:8080/"
        },
        "id": "hE7C8tL22lmD",
        "outputId": "145a0148-dff4-4db3-d741-414b42869154"
      },
      "execution_count": null,
      "outputs": [
        {
          "output_type": "stream",
          "name": "stdout",
          "text": [
            "Hello World!\n"
          ]
        }
      ]
    },
    {
      "cell_type": "markdown",
      "source": [
        "Concept of variables and data types :\n",
        "EXERCISE: A travel company wants to fly a plane to the Bahamas. Flying the plane costs 5000 dollars. So far, 29 people have signed up for the trip. If the company charges 200 dollars per ticket, what is the profit made by the company? Create variables for each numeric quantity and use appropriate arithmetic operations."
      ],
      "metadata": {
        "id": "ovKfTdej2B9R"
      }
    },
    {
      "cell_type": "code",
      "source": [
        "cost_plane=5000\n",
        "n=29\n",
        "cost_tick=200\n",
        "money_made=n*cost_tick\n",
        "profit=money_made-cost_plane\n",
        "print(profit)"
      ],
      "metadata": {
        "id": "vxkFv26E23qA",
        "colab": {
          "base_uri": "https://localhost:8080/"
        },
        "outputId": "9f832b63-995c-4899-def6-80a3928950e6"
      },
      "execution_count": null,
      "outputs": [
        {
          "output_type": "stream",
          "name": "stdout",
          "text": [
            "800\n"
          ]
        }
      ]
    },
    {
      "cell_type": "markdown",
      "source": [
        "Concept of a conditional statement or a set of conditional statements and cases :\n",
        "Write a code snippet which evaluates whether a number is a multiple of just 2 , just 3 , or both 2 and 3 (multiple of 6)"
      ],
      "metadata": {
        "id": "xjAB_LDJ24I3"
      }
    },
    {
      "cell_type": "code",
      "source": [
        "#use if-else statements and print out the required information:\n",
        "num= 12\n",
        "#complete this area\n",
        "if num%2==0 and num%3==0:\n",
        "  print(f\"{num} is a multiple of 6 (2 and 3)\")\n",
        "elif num%2==0:\n",
        "  print(f\"{num} is a multiple of just 2\")\n",
        "elif num%3==0:\n",
        "  print(f\"{num} is a multiple of just 3\")\n"
      ],
      "metadata": {
        "id": "m_ZVPJuN3AXP",
        "colab": {
          "base_uri": "https://localhost:8080/"
        },
        "outputId": "d055d9c5-c7c1-4e67-90e9-8bf4712c7cfd"
      },
      "execution_count": null,
      "outputs": [
        {
          "output_type": "stream",
          "name": "stdout",
          "text": [
            "12 is a multiple of 6 (2 and 3)\n"
          ]
        }
      ]
    },
    {
      "cell_type": "markdown",
      "source": [
        "Concept of loops:\n",
        "Write a program to count the number of vowels in the given string:\n",
        "ANTIESTABLISHMENTARIANISTICALLY"
      ],
      "metadata": {
        "id": "O2bGzmzO3s9L"
      }
    },
    {
      "cell_type": "code",
      "source": [
        "word=\"ANTIESTABLISHMENTARIANISTICALLY\"\n",
        "count=0\n",
        "for letter in word:\n",
        "  if letter in [\"A\",'E','I','O','U']:\n",
        "   count=count+1\n",
        "print(count)"
      ],
      "metadata": {
        "id": "4g7drYH83vYE",
        "colab": {
          "base_uri": "https://localhost:8080/"
        },
        "outputId": "2b73436b-1207-4ef4-edfc-24e7534a6f41"
      },
      "execution_count": 15,
      "outputs": [
        {
          "output_type": "stream",
          "name": "stdout",
          "text": [
            "12\n"
          ]
        }
      ]
    },
    {
      "cell_type": "markdown",
      "source": [
        "learning what each data- structure in python does and using all their functions:\n"
      ],
      "metadata": {
        "id": "e4Vc9Nw84bD5"
      }
    },
    {
      "cell_type": "markdown",
      "source": [
        "LISTS AND ITS FUNCTIONALITY:"
      ],
      "metadata": {
        "id": "OaEbJ_LY4joh"
      }
    },
    {
      "cell_type": "code",
      "source": [
        "#Define a random list of fruits \n",
        "L=[\"apple\",\"banana\",\"guava\",\"grape\",\"kiwi\"]\n",
        "count=[]\n",
        "#iterate over the list and find the name of the fruit which has the smallest word length\n",
        "for word in L:\n",
        "  count.append(len(word))\n",
        "l=min(count)\n",
        "i=0\n",
        "while count[i]!=min(count):\n",
        "  i=i+1\n",
        "\n",
        "print(f\"smallest word length is {l} and the word is {L[i]}\")\n",
        "# append a vegetable to your existing list\n",
        "L.append(\"crabapple\")\n",
        "print(L)\n",
        "\n",
        "# find the size of your list\n",
        "print(f\"size of list is {len(L)}\")\n",
        "\n",
        "# add enough fruits such that your list size if greater that 4\n",
        "\n",
        "# delete the 2nd fruit(1st index) from your list:\n",
        "L.pop(1)\n",
        "print(L)\n",
        "\n",
        "# add your name in the 4th position of the list (3rd index)\n",
        "L.insert(3,\"Pragnya\")\n",
        "print(L)\n",
        "\n",
        "#have fun and try out any 4-5 pre-defined fucntions on a list as seen in the python list documentation\n",
        "\n"
      ],
      "metadata": {
        "id": "rjle8Jat4n7b",
        "colab": {
          "base_uri": "https://localhost:8080/"
        },
        "outputId": "eed066f9-3d47-4570-cb4b-eb2e29dd8d56"
      },
      "execution_count": null,
      "outputs": [
        {
          "output_type": "stream",
          "name": "stdout",
          "text": [
            "smallest word length is 4 and the word is kiwi\n",
            "['apple', 'banana', 'guava', 'grape', 'kiwi', 'crabapple']\n",
            "size of list is 6\n",
            "['apple', 'guava', 'grape', 'kiwi', 'crabapple']\n",
            "['apple', 'guava', 'grape', 'Pragnya', 'kiwi', 'crabapple']\n"
          ]
        }
      ]
    },
    {
      "cell_type": "markdown",
      "source": [
        "TUPLES AND ITS FUNCTIONALITY:"
      ],
      "metadata": {
        "id": "IAYs58gx4oWB"
      }
    },
    {
      "cell_type": "code",
      "source": [
        "#create abd tuple and print its elements \n",
        "tup=(1,2==1,3==3,\"hello\",4,8,12)\n",
        "print(tup)\n",
        "\n",
        "#print the type of each value in the tuple\n",
        "print(type(tup))\n",
        "for i in tup:\n",
        "  print(type(i))\n",
        "\n",
        "#try to change the seconf value in your tuple to \"Caterpillar\"\n",
        "\n",
        "# print the last element of the tuple without using the length of the tuple\n",
        "print(tup[-1])\n",
        "\n",
        "# slicing is an IMPORTANT concept in python especially since you will all be working on huge amounts of data so try different options \n",
        "# print(a[-2:]), print([:3]) etc...\n",
        "print(tup[-2:])\n",
        "print(tup[::3])\n",
        "print(tup[1:-2:3])\n",
        "\n",
        "#sort vs sorted function: find the difference in the form of a program:\n",
        "tup1=(1,43,2,21,54)\n",
        "print(sorted(tup1))\n",
        "print(f\"tuple is {tup1}\")\n",
        "#tup1.sort()\n",
        "#print(f\"tuple is {tup1}\")"
      ],
      "metadata": {
        "id": "KquFBYey4qzu",
        "colab": {
          "base_uri": "https://localhost:8080/"
        },
        "outputId": "aa90a029-e28c-48e8-b9ed-3756c7ed1e06"
      },
      "execution_count": null,
      "outputs": [
        {
          "output_type": "stream",
          "name": "stdout",
          "text": [
            "(1, False, True, 'hello', 4, 8, 12)\n",
            "<class 'tuple'>\n",
            "<class 'int'>\n",
            "<class 'bool'>\n",
            "<class 'bool'>\n",
            "<class 'str'>\n",
            "<class 'int'>\n",
            "<class 'int'>\n",
            "<class 'int'>\n",
            "12\n",
            "(8, 12)\n",
            "(1, 'hello', 12)\n",
            "(False, 4)\n",
            "[1, 2, 21, 43, 54]\n",
            "tuple is (1, 43, 2, 21, 54)\n"
          ]
        }
      ]
    },
    {
      "cell_type": "markdown",
      "source": [
        "SETS AND ITS FUNCTIONALITY:"
      ],
      "metadata": {
        "id": "P3xn-gIL4rS6"
      }
    },
    {
      "cell_type": "code",
      "source": [
        "#explore the properties of set and after doing that solve this little puzzle below:\n",
        "\n"
      ],
      "metadata": {
        "id": "RlURFwFx4viZ"
      },
      "execution_count": null,
      "outputs": []
    },
    {
      "cell_type": "markdown",
      "source": [
        "Ana is a data-scientist  who just started her career in Meta, however she needs to find the existance of new words on facebook hashtags and find the numbre of unique such words which need to be added to the existing facebook hastag library:\n",
        "\n",
        "facebook hastag library : [\"ootd\", \"lol\", \"ffs\", \"asap\"]\n",
        "daily facebook hastag words string: \" rofl lol macha bob ootd asap fun sweet16 ffs lol asap ootd ffs macha rofl bob ootd fun candid anime happyhours bob fun happyhours\"\n",
        "You will need to indivitually extract the words from the string and then solve this problem ?? How are you going to do that ? \n",
        "# Reading documentation should become a habit ....."
      ],
      "metadata": {
        "id": "na8tI4EH70Lt"
      }
    },
    {
      "cell_type": "code",
      "source": [
        "#solve the above problem and help ana do her work she may even hire you as her assistant!!!\n",
        "dailytag=\" rofl lol macha bob ootd asap fun sweet16 ffs lol asap ootd ffs macha rofl bob ootd fun candid anime happyhours bob fun happyhours\"\n",
        "word=\"\"\n",
        "taglib=[\"ootd\", \"lol\", \"ffs\", \"asap\"]\n",
        "dailytag=dailytag+\" \"\n",
        "newword=[]\n",
        "count=0\n",
        "for i in range(0, len(dailytag)):  \n",
        "    #Split the string into words  \n",
        "    if i==0 and dailytag[0]==' ':\n",
        "      continue\n",
        "    elif dailytag[i] != ' ' :  \n",
        "        word = word + dailytag[i];  \n",
        "    else:  \n",
        "        if word not in taglib:\n",
        "          taglib.append(word);  \n",
        "          newword.append(word)\n",
        "          count=count+1\n",
        "          #Make word an empty string  \n",
        "          word = \"\";  \n",
        "        else:\n",
        "          word=\"\"\n",
        "\n",
        "print(f\"new words seen today are {count} in number, and the words are {newword}\")\n"
      ],
      "metadata": {
        "id": "0ww7Zs5BBiBQ",
        "colab": {
          "base_uri": "https://localhost:8080/"
        },
        "outputId": "5433ae2c-f78b-4cf3-92ca-1635815b2655"
      },
      "execution_count": null,
      "outputs": [
        {
          "output_type": "stream",
          "name": "stdout",
          "text": [
            "new words seen today are 8 in number, and the words are ['rofl', 'macha', 'bob', 'fun', 'sweet16', 'candid', 'anime', 'happyhours']\n"
          ]
        }
      ]
    },
    {
      "cell_type": "markdown",
      "source": [
        "DICTIONARIES AND ITS FUNCTIONALITY:"
      ],
      "metadata": {
        "id": "kMmUm2qI4wBP"
      }
    },
    {
      "cell_type": "code",
      "source": [
        "#explore the usage of dictionaries because it is literally so useful when in comes data science\n",
        "#a lot of the data you will be using will be as key-value pairs \n"
      ],
      "metadata": {
        "id": "oR-54dFT4zYN"
      },
      "execution_count": null,
      "outputs": []
    },
    {
      "cell_type": "markdown",
      "source": [
        "Given an unsorted list of some elements(may or may not be integers), Find the frequency of each distinct element in the list using a dictionary. \n",
        "Input : [1, 1, 1, 5, 5, 3, 1, 3, 3, 1,\n",
        "                  4, 4, 4, 2, 2, 2, 2]\n",
        "\n",
        "Output : 1 : 5\n",
        "         2 : 4\n",
        "         3 : 3\n",
        "         4 : 3\n",
        "         5 : 2\n",
        "\n"
      ],
      "metadata": {
        "id": "V-iZrEMlE30W"
      }
    },
    {
      "cell_type": "code",
      "source": [
        "# Python program to count the frequency of\n",
        "# elements in a list using a dictionary\n",
        " \n",
        "def CountFrequency(my_list):\n",
        " \n",
        "    # Creating an empty dictionary\n",
        "    freq = {}\n",
        "    #------fill your code here-----------------\n",
        "    for i in my_list:\n",
        "      if i in freq:\n",
        "        freq[i]=freq[i]+1\n",
        "      else:\n",
        "        freq[i]=1\n",
        "    print(freq)\n",
        "    \n",
        "# Driver function\n",
        "if __name__ == \"__main__\":\n",
        "    my_list =[1, 1, 1, 5, 5, 3, 1, 3, 3, 1, 4, 4, 4, 2, 2, 2, 2]\n",
        " \n",
        "    CountFrequency(my_list)"
      ],
      "metadata": {
        "id": "dPP6aUJaFbbv",
        "colab": {
          "base_uri": "https://localhost:8080/"
        },
        "outputId": "622c0a75-3ccf-4c8b-b686-81e8d346c19e"
      },
      "execution_count": null,
      "outputs": [
        {
          "output_type": "stream",
          "name": "stdout",
          "text": [
            "{1: 5, 5: 2, 3: 3, 4: 3, 2: 4}\n"
          ]
        }
      ]
    },
    {
      "cell_type": "markdown",
      "source": [
        "Now that you have finished this basics exercise in python We shall now play in teams and winning Team doesn't get homework today !"
      ],
      "metadata": {
        "id": "7AoTxECAFvfc"
      }
    }
  ]
}